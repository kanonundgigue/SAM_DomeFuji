{
 "cells": [
  {
   "cell_type": "markdown",
   "metadata": {},
   "source": [
    "# correlation"
   ]
  },
  {
   "cell_type": "code",
   "execution_count": 1,
   "metadata": {},
   "outputs": [],
   "source": [
    "import warnings\n",
    "warnings.simplefilter(\"ignore\")\n",
    "from scipy import stats\n",
    "import numpy as np\n",
    "import pandas as pd\n",
    "#\n",
    "import matplotlib\n",
    "import matplotlib.pyplot as plt\n",
    "#\n",
    "import seaborn as sns"
   ]
  },
  {
   "cell_type": "code",
   "execution_count": 2,
   "metadata": {},
   "outputs": [],
   "source": [
    "# 描画設定\n",
    "plt.rcParams['figure.dpi'] = 300\n",
    "plt.rcParams.update({'font.family': 'sans-serif', 'text.usetex': False,'pcolor.shading':'auto'})"
   ]
  },
  {
   "cell_type": "code",
   "execution_count": 3,
   "metadata": {},
   "outputs": [],
   "source": [
    "class Site:\n",
    "    def DomeF(self):\n",
    "        # DomeF\n",
    "        # 南緯77度19分01秒 東経39度42分12秒座標: 南緯77度19分01秒 東経39度42分12秒\n",
    "        sx=14 ; sy=60 #;; # 77°18′59″S 39°42′04″E\n",
    "        df_lat=-77.3\n",
    "        df_lon=39.66\n",
    "        return df_lon,df_lat,sx,sy\n",
    "\n",
    "\n",
    "df_lon,df_lat,df_x,df_y = Site().DomeF()"
   ]
  },
  {
   "cell_type": "code",
   "execution_count": 4,
   "metadata": {},
   "outputs": [],
   "source": [
    "def Mon():\n",
    "    import pandas as pd\n",
    "    mons = pd.DataFrame({\n",
    "            \"\": [\"Jan\", \"Feb\", \"Mar\",\"Apr\",\"May\",\"Jun\",\n",
    "                     \"Jul\",\"Aug\",\"Sep\",\"Oct\",\"Nov\",\"Dec\",\"Jan\"],\n",
    "            })\n",
    "    return mons\n",
    "mons=Mon()"
   ]
  },
  {
   "cell_type": "code",
   "execution_count": 5,
   "metadata": {},
   "outputs": [],
   "source": [
    "loadfile = \"T2.npz\"\n",
    "dataset = np.load(loadfile)\n",
    "T2 = dataset[\"T2\"]\n",
    "lon2 = dataset[\"lon2\"]\n",
    "lat2 = dataset[\"lat2\"]\n",
    "y = dataset[\"y\"]\n",
    "m = dataset[\"m\"]\n",
    "d = dataset[\"d\"]"
   ]
  },
  {
   "cell_type": "code",
   "execution_count": 6,
   "metadata": {},
   "outputs": [],
   "source": [
    "loadfile = \"prcp.npz\"\n",
    "dataset = np.load(loadfile)\n",
    "prcp = dataset[\"prcp\"]"
   ]
  },
  {
   "cell_type": "code",
   "execution_count": 7,
   "metadata": {},
   "outputs": [],
   "source": [
    "loadfile = \"prcp_d18O.npz\"\n",
    "dataset = np.load(loadfile)\n",
    "prcp_d18O = dataset[\"prcp_d18O\"]"
   ]
  },
  {
   "cell_type": "code",
   "execution_count": 8,
   "metadata": {},
   "outputs": [],
   "source": [
    "loadfile = \"sam.npz\"\n",
    "dataset = np.load(loadfile)\n",
    "sam  = dataset[\"sam\"][:]"
   ]
  },
  {
   "cell_type": "code",
   "execution_count": 9,
   "metadata": {},
   "outputs": [],
   "source": [
    "temp_df = T2  [df_x-1, df_y-1, :]\n",
    "prcp_df = prcp[df_x-1, df_y-1, :]\n",
    "# removing abnormal values\n",
    "is_r_prcp_d18O = np.squeeze(prcp_d18O[df_x-1, df_y-1,:]<-125)\n",
    "prcp_d18O_df   = np.zeros(len(m))\n",
    "prcp_d18O_df   = prcp_d18O[df_x-1, df_y-1,:]\n",
    "prcp_d18O_df[is_r_prcp_d18O] = np.nan"
   ]
  },
  {
   "cell_type": "markdown",
   "metadata": {},
   "source": [
    "# Model results"
   ]
  },
  {
   "cell_type": "code",
   "execution_count": 10,
   "metadata": {},
   "outputs": [],
   "source": [
    "df_all = pd.DataFrame.from_dict({\n",
    "    \"Number\": np.zeros((len(prcp_d18O_df))),\n",
    "    \"Year\": y,\n",
    "    \"Mon\" : m,\n",
    "    \"Date\": d,\n",
    "    \"d18O\": prcp_d18O_df,\n",
    "    \"temp\": temp_df     ,\n",
    "    \"prcp\": prcp_df     ,\n",
    "    \"sam\" : sam         ,\n",
    "},orient=\"columns\")"
   ]
  },
  {
   "cell_type": "code",
   "execution_count": 11,
   "metadata": {},
   "outputs": [],
   "source": [
    "df_all = df_all.dropna(how=\"any\")\n",
    "num = np.zeros(13)\n",
    "for mm in range(12):\n",
    "    num[mm] = len(df_all[df_all[\"Mon\"]==mm+1])\n",
    "num[12] =len(df_all)"
   ]
  },
  {
   "cell_type": "markdown",
   "metadata": {},
   "source": [
    "## Standard deviations"
   ]
  },
  {
   "cell_type": "code",
   "execution_count": 12,
   "metadata": {},
   "outputs": [],
   "source": [
    "def std(varin, var):\n",
    "    df_out = pd.DataFrame.from_dict({\n",
    "        \"std\":np.zeros(13)\n",
    "    }, orient=\"columns\")\n",
    "    indexlist = mons[\"\"][:12].tolist()\n",
    "    indexlist.append(\"Annual\")\n",
    "    df_out.index = indexlist\n",
    "    for mm in range(12):\n",
    "        df =  varin[varin[\"Mon\"]==mm+1]   \n",
    "        df_out[\"std\"][mm] = np.nanstd(df[var])\n",
    "    df_out[\"std\"][12] = np.nanstd(varin[var])\n",
    "\n",
    "    return df_out.T"
   ]
  },
  {
   "cell_type": "code",
   "execution_count": 13,
   "metadata": {},
   "outputs": [
    {
     "data": {
      "text/html": [
       "<div>\n",
       "<style scoped>\n",
       "    .dataframe tbody tr th:only-of-type {\n",
       "        vertical-align: middle;\n",
       "    }\n",
       "\n",
       "    .dataframe tbody tr th {\n",
       "        vertical-align: top;\n",
       "    }\n",
       "\n",
       "    .dataframe thead th {\n",
       "        text-align: right;\n",
       "    }\n",
       "</style>\n",
       "<table border=\"1\" class=\"dataframe\">\n",
       "  <thead>\n",
       "    <tr style=\"text-align: right;\">\n",
       "      <th></th>\n",
       "      <th>Jan</th>\n",
       "      <th>Feb</th>\n",
       "      <th>Mar</th>\n",
       "      <th>Apr</th>\n",
       "      <th>May</th>\n",
       "      <th>Jun</th>\n",
       "      <th>Jul</th>\n",
       "      <th>Aug</th>\n",
       "      <th>Sep</th>\n",
       "      <th>Oct</th>\n",
       "      <th>Nov</th>\n",
       "      <th>Dec</th>\n",
       "      <th>Annual</th>\n",
       "    </tr>\n",
       "  </thead>\n",
       "  <tbody>\n",
       "    <tr>\n",
       "      <th>Number</th>\n",
       "      <td>930</td>\n",
       "      <td>847</td>\n",
       "      <td>930</td>\n",
       "      <td>900</td>\n",
       "      <td>926</td>\n",
       "      <td>896</td>\n",
       "      <td>922</td>\n",
       "      <td>923</td>\n",
       "      <td>884</td>\n",
       "      <td>853</td>\n",
       "      <td>893</td>\n",
       "      <td>930</td>\n",
       "      <td>10834</td>\n",
       "    </tr>\n",
       "    <tr>\n",
       "      <th>$\\mathsf{\\Delta SAT}$</th>\n",
       "      <td>3.59</td>\n",
       "      <td>6.41</td>\n",
       "      <td>6.76</td>\n",
       "      <td>6.96</td>\n",
       "      <td>8.35</td>\n",
       "      <td>8.54</td>\n",
       "      <td>8.67</td>\n",
       "      <td>7.52</td>\n",
       "      <td>7.23</td>\n",
       "      <td>7.43</td>\n",
       "      <td>6.01</td>\n",
       "      <td>3.46</td>\n",
       "      <td>15.71</td>\n",
       "    </tr>\n",
       "    <tr>\n",
       "      <th>$\\mathsf{\\Delta\\delta^{18}O_p}$</th>\n",
       "      <td>7.61</td>\n",
       "      <td>13.66</td>\n",
       "      <td>10.60</td>\n",
       "      <td>11.73</td>\n",
       "      <td>13.71</td>\n",
       "      <td>13.53</td>\n",
       "      <td>14.52</td>\n",
       "      <td>13.68</td>\n",
       "      <td>13.09</td>\n",
       "      <td>15.67</td>\n",
       "      <td>13.06</td>\n",
       "      <td>7.67</td>\n",
       "      <td>25.54</td>\n",
       "    </tr>\n",
       "    <tr>\n",
       "      <th>$\\mathsf{P}$</th>\n",
       "      <td>0.25</td>\n",
       "      <td>0.16</td>\n",
       "      <td>0.11</td>\n",
       "      <td>0.15</td>\n",
       "      <td>0.15</td>\n",
       "      <td>0.20</td>\n",
       "      <td>0.15</td>\n",
       "      <td>0.10</td>\n",
       "      <td>0.09</td>\n",
       "      <td>0.31</td>\n",
       "      <td>0.18</td>\n",
       "      <td>0.29</td>\n",
       "      <td>0.19</td>\n",
       "    </tr>\n",
       "  </tbody>\n",
       "</table>\n",
       "</div>"
      ],
      "text/plain": [
       "                                  Jan    Feb    Mar    Apr    May    Jun  \\\n",
       "Number                            930    847    930    900    926    896   \n",
       "$\\mathsf{\\Delta SAT}$            3.59   6.41   6.76   6.96   8.35   8.54   \n",
       "$\\mathsf{\\Delta\\delta^{18}O_p}$  7.61  13.66  10.60  11.73  13.71  13.53   \n",
       "$\\mathsf{P}$                     0.25   0.16   0.11   0.15   0.15   0.20   \n",
       "\n",
       "                                   Jul    Aug    Sep    Oct    Nov   Dec  \\\n",
       "Number                             922    923    884    853    893   930   \n",
       "$\\mathsf{\\Delta SAT}$             8.67   7.52   7.23   7.43   6.01  3.46   \n",
       "$\\mathsf{\\Delta\\delta^{18}O_p}$  14.52  13.68  13.09  15.67  13.06  7.67   \n",
       "$\\mathsf{P}$                      0.15   0.10   0.09   0.31   0.18  0.29   \n",
       "\n",
       "                                Annual  \n",
       "Number                           10834  \n",
       "$\\mathsf{\\Delta SAT}$            15.71  \n",
       "$\\mathsf{\\Delta\\delta^{18}O_p}$  25.54  \n",
       "$\\mathsf{P}$                      0.19  "
      ]
     },
     "metadata": {},
     "output_type": "display_data"
    }
   ],
   "source": [
    "indexlist = mons[\"\"][:12].tolist()\n",
    "indexlist.append(\"Annual\")\n",
    "\n",
    "df_std = pd.DataFrame(data=[map(str,map(int,num)),\n",
    "                             ['{:.2f}'.format(n) for n in (std(df_all[[\"Mon\",\"temp\"]], \"temp\").T[\"std\"].values )],\n",
    "                             ['{:.2f}'.format(n) for n in (std(df_all[[\"Mon\",\"d18O\"]], \"d18O\").T[\"std\"].values )],\n",
    "                             ['{:.2f}'.format(n) for n in (std(df_all[[\"Mon\",\"prcp\"]], \"prcp\").T[\"std\"].values )],\n",
    "          ], columns=indexlist,\n",
    "    index=[\"Number\",\"$\\mathsf{\\Delta SAT}$\",\"$\\mathsf{\\Delta\\delta^{18}O_p}$\", \"$\\mathsf{P}$\"])\n",
    "\n",
    "display(df_std)"
   ]
  },
  {
   "cell_type": "code",
   "execution_count": 14,
   "metadata": {},
   "outputs": [
    {
     "data": {
      "text/plain": [
       "MannwhitneyuResult(statistic=18453555.0, pvalue=6.600122525722355e-07)"
      ]
     },
     "execution_count": 14,
     "metadata": {},
     "output_type": "execute_result"
    }
   ],
   "source": [
    "prcp_summer = df_all[(df_all[\"Mon\"]<=2)+(df_all[\"Mon\"]>=11)][\"prcp\"]\n",
    "prcp_winter = df_all[(df_all[\"Mon\"]>=3)+(df_all[\"Mon\"]<=10)][\"prcp\"]\n",
    "stats.mannwhitneyu(prcp_winter, prcp_summer, use_continuity=True, alternative=None)"
   ]
  },
  {
   "cell_type": "code",
   "execution_count": 15,
   "metadata": {},
   "outputs": [
    {
     "data": {
      "text/plain": [
       "BartlettResult(statistic=724.1172189225003, pvalue=1.7036552230148304e-159)"
      ]
     },
     "execution_count": 15,
     "metadata": {},
     "output_type": "execute_result"
    }
   ],
   "source": [
    "temp_summer = df_all[(df_all[\"Mon\"]<=2)+(df_all[\"Mon\"]>=10)][\"temp\"]\n",
    "temp_winter = df_all[(df_all[\"Mon\"]>=3)+(df_all[\"Mon\"]<=9)][\"temp\"]\n",
    "stats.bartlett(temp_winter, temp_summer)"
   ]
  },
  {
   "cell_type": "code",
   "execution_count": 16,
   "metadata": {},
   "outputs": [
    {
     "data": {
      "text/plain": [
       "BartlettResult(statistic=153.39170007615118, pvalue=3.145343801388662e-35)"
      ]
     },
     "execution_count": 16,
     "metadata": {},
     "output_type": "execute_result"
    }
   ],
   "source": [
    "d18O_summer = df_all[(df_all[\"Mon\"]<=2)+(df_all[\"Mon\"]>=10)][\"d18O\"]\n",
    "d18O_winter = df_all[(df_all[\"Mon\"]>=3)+(df_all[\"Mon\"]<=9)][\"d18O\"]\n",
    "stats.bartlett(d18O_winter, d18O_summer)"
   ]
  },
  {
   "cell_type": "markdown",
   "metadata": {},
   "source": [
    "# Observation"
   ]
  },
  {
   "cell_type": "code",
   "execution_count": 17,
   "metadata": {},
   "outputs": [],
   "source": [
    "obs_DomeF = np.genfromtxt(\"obs_DomeF.csv\",\n",
    "                           delimiter=\",\", # 区切り文字\n",
    "                           usecols=(0,1,2,3,4,5) # 読み込みたい列\n",
    "                          )\n",
    "\n",
    "obs_len          = np.shape(obs_DomeF)[0]\n",
    "obs_y_df         = obs_DomeF[1:,0]\n",
    "obs_m_df         = obs_DomeF[1:,1]\n",
    "obs_d_df         = obs_DomeF[1:,2]\n",
    "obs_temp_df      = obs_DomeF[1:,3]\n",
    "obs_prcp_df      = obs_DomeF[1:,4]\n",
    "obs_prcp_d18O_df = obs_DomeF[1:,5]\n",
    "\n",
    "obs_dayst  = 31\n",
    "obs_dayed  = 31 + 365\n",
    "nanlist    = np.zeros((obs_dayed-obs_len+1))\n",
    "nanlist[:] = np.nan\n",
    "\n",
    "obs_y_df         = np.append(obs_y_df        [obs_dayst:obs_dayed], nanlist)\n",
    "obs_m_df         = np.append(obs_m_df        [obs_dayst:obs_dayed], nanlist)\n",
    "obs_d_df         = np.append(obs_d_df        [obs_dayst:obs_dayed], nanlist)\n",
    "obs_temp_df      = np.append(obs_temp_df     [obs_dayst:obs_dayed], nanlist)\n",
    "obs_prcp_df      = np.append(obs_prcp_df     [obs_dayst:obs_dayed], nanlist)\n",
    "obs_prcp_d18O_df = np.append(obs_prcp_d18O_df[obs_dayst:obs_dayed], nanlist)"
   ]
  },
  {
   "cell_type": "code",
   "execution_count": 18,
   "metadata": {},
   "outputs": [],
   "source": [
    "df_obs = pd.DataFrame.from_dict({\n",
    "    \"Number\": np.zeros((len(obs_prcp_d18O_df))),\n",
    "    \"Year\": obs_y_df,\n",
    "    \"Mon\" : obs_m_df,\n",
    "    \"Date\": obs_d_df,\n",
    "    \"d18O\": obs_prcp_d18O_df,\n",
    "    \"temp\": obs_temp_df,\n",
    "    \"prcp\": obs_prcp_df,\n",
    "    \"sam\" : sam[((y==2003)&(m>1))+((y==2004)&(m==1))]         ,\n",
    "},orient=\"columns\")"
   ]
  },
  {
   "cell_type": "code",
   "execution_count": 19,
   "metadata": {},
   "outputs": [],
   "source": [
    "df_obs = df_obs.dropna(how=\"any\")\n",
    "num_obs = np.zeros(13)\n",
    "for mm in range(12):\n",
    "    num_obs[mm] = len(df_obs[df_obs[\"Mon\"]==mm+1]) \n",
    "num_obs[12] =len(df_obs)    "
   ]
  },
  {
   "cell_type": "code",
   "execution_count": 22,
   "metadata": {},
   "outputs": [],
   "source": [
    "def std_obs(varin,varmean, var):\n",
    "    df_out = pd.DataFrame.from_dict({\n",
    "        \"std\":np.zeros(12)\n",
    "    }, orient=\"columns\")\n",
    "    df_out.index = mons[\"\"][:12]\n",
    "    for mm in range(12):\n",
    "        df =  varin[varin[\"Mon\"]==mm+1]   \n",
    "        df_out[\"std\"][mm] = np.nanstd(df[var]-varmean[mm] )\n",
    "\n",
    "    return df_out.T"
   ]
  },
  {
   "cell_type": "code",
   "execution_count": 26,
   "metadata": {},
   "outputs": [
    {
     "data": {
      "text/html": [
       "<div>\n",
       "<style scoped>\n",
       "    .dataframe tbody tr th:only-of-type {\n",
       "        vertical-align: middle;\n",
       "    }\n",
       "\n",
       "    .dataframe tbody tr th {\n",
       "        vertical-align: top;\n",
       "    }\n",
       "\n",
       "    .dataframe thead th {\n",
       "        text-align: right;\n",
       "    }\n",
       "</style>\n",
       "<table border=\"1\" class=\"dataframe\">\n",
       "  <thead>\n",
       "    <tr style=\"text-align: right;\">\n",
       "      <th></th>\n",
       "      <th>Jan</th>\n",
       "      <th>Feb</th>\n",
       "      <th>Mar</th>\n",
       "      <th>Apr</th>\n",
       "      <th>May</th>\n",
       "      <th>Jun</th>\n",
       "      <th>Jul</th>\n",
       "      <th>Aug</th>\n",
       "      <th>Sep</th>\n",
       "      <th>Oct</th>\n",
       "      <th>Nov</th>\n",
       "      <th>Dec</th>\n",
       "      <th>Annual</th>\n",
       "    </tr>\n",
       "  </thead>\n",
       "  <tbody>\n",
       "    <tr>\n",
       "      <th>Number</th>\n",
       "      <td>18</td>\n",
       "      <td>23</td>\n",
       "      <td>31</td>\n",
       "      <td>29</td>\n",
       "      <td>31</td>\n",
       "      <td>30</td>\n",
       "      <td>29</td>\n",
       "      <td>31</td>\n",
       "      <td>29</td>\n",
       "      <td>30</td>\n",
       "      <td>26</td>\n",
       "      <td>26</td>\n",
       "      <td>333</td>\n",
       "    </tr>\n",
       "    <tr>\n",
       "      <th>$\\mathsf{\\Delta SAT}$</th>\n",
       "      <td>2.82</td>\n",
       "      <td>3.79</td>\n",
       "      <td>5.47</td>\n",
       "      <td>4.63</td>\n",
       "      <td>5.20</td>\n",
       "      <td>4.44</td>\n",
       "      <td>6.28</td>\n",
       "      <td>5.05</td>\n",
       "      <td>3.98</td>\n",
       "      <td>5.44</td>\n",
       "      <td>4.84</td>\n",
       "      <td>3.02</td>\n",
       "      <td>12.44</td>\n",
       "    </tr>\n",
       "    <tr>\n",
       "      <th>$\\mathsf{\\Delta\\delta^{18}O_p}$</th>\n",
       "      <td>4.42</td>\n",
       "      <td>3.56</td>\n",
       "      <td>5.74</td>\n",
       "      <td>4.29</td>\n",
       "      <td>5.28</td>\n",
       "      <td>4.25</td>\n",
       "      <td>5.52</td>\n",
       "      <td>4.55</td>\n",
       "      <td>4.62</td>\n",
       "      <td>5.11</td>\n",
       "      <td>7.28</td>\n",
       "      <td>4.51</td>\n",
       "      <td>10.85</td>\n",
       "    </tr>\n",
       "    <tr>\n",
       "      <th>Precipitation</th>\n",
       "      <td>0.21</td>\n",
       "      <td>0.07</td>\n",
       "      <td>0.08</td>\n",
       "      <td>0.05</td>\n",
       "      <td>0.20</td>\n",
       "      <td>0.13</td>\n",
       "      <td>0.17</td>\n",
       "      <td>0.18</td>\n",
       "      <td>0.07</td>\n",
       "      <td>0.05</td>\n",
       "      <td>0.16</td>\n",
       "      <td>0.47</td>\n",
       "      <td>0.19</td>\n",
       "    </tr>\n",
       "  </tbody>\n",
       "</table>\n",
       "</div>"
      ],
      "text/plain": [
       "                                  Jan   Feb   Mar   Apr   May   Jun   Jul  \\\n",
       "Number                             18    23    31    29    31    30    29   \n",
       "$\\mathsf{\\Delta SAT}$            2.82  3.79  5.47  4.63  5.20  4.44  6.28   \n",
       "$\\mathsf{\\Delta\\delta^{18}O_p}$  4.42  3.56  5.74  4.29  5.28  4.25  5.52   \n",
       "Precipitation                    0.21  0.07  0.08  0.05  0.20  0.13  0.17   \n",
       "\n",
       "                                  Aug   Sep   Oct   Nov   Dec Annual  \n",
       "Number                             31    29    30    26    26    333  \n",
       "$\\mathsf{\\Delta SAT}$            5.05  3.98  5.44  4.84  3.02  12.44  \n",
       "$\\mathsf{\\Delta\\delta^{18}O_p}$  4.55  4.62  5.11  7.28  4.51  10.85  \n",
       "Precipitation                    0.18  0.07  0.05  0.16  0.47   0.19  "
      ]
     },
     "metadata": {},
     "output_type": "display_data"
    }
   ],
   "source": [
    "df_std_obs = pd.DataFrame(data=[map(str,map(int,num_obs)),\n",
    "                             ['{:.2f}'.format(n) for n in (std(df_obs[[\"Mon\",\"temp\"]], \"temp\").T[\"std\"].values )] ,\n",
    "                             ['{:.2f}'.format(n) for n in (std(df_obs[[\"Mon\",\"d18O\"]], \"d18O\").T[\"std\"].values )],\n",
    "                             ['{:.2f}'.format(n) for n in (std(df_obs[[\"Mon\",\"prcp\"]], \"prcp\").T[\"std\"].values )],\n",
    "          ], columns=indexlist,\n",
    "#                           index=[\"Number\",\"temp\",\"d18O\", \"prcp\"]).T\n",
    "    index=[\"Number\",\"$\\mathsf{\\Delta SAT}$\",\"$\\mathsf{\\Delta\\delta^{18}O_p}$\", \"Precipitation\"])\n",
    "\n",
    "display(df_std_obs)"
   ]
  },
  {
   "cell_type": "code",
   "execution_count": 27,
   "metadata": {},
   "outputs": [
    {
     "data": {
      "text/plain": [
       "MannwhitneyuResult(statistic=13685.0, pvalue=0.04328494500402202)"
      ]
     },
     "execution_count": 27,
     "metadata": {},
     "output_type": "execute_result"
    }
   ],
   "source": [
    "prcp_summer_obs = df_obs[(df_obs[\"Mon\"]<=2)+(df_obs[\"Mon\"]>=11)][\"prcp\"]\n",
    "prcp_winter_obs = df_obs[(df_obs[\"Mon\"]>=3)+(df_obs[\"Mon\"]<=10)][\"prcp\"]\n",
    "stats.mannwhitneyu(prcp_winter_obs, prcp_summer_obs, use_continuity=True, alternative=None)"
   ]
  },
  {
   "cell_type": "code",
   "execution_count": 28,
   "metadata": {},
   "outputs": [
    {
     "data": {
      "text/plain": [
       "BartlettResult(statistic=3.5056919102631254, pvalue=0.06115829403383749)"
      ]
     },
     "execution_count": 28,
     "metadata": {},
     "output_type": "execute_result"
    }
   ],
   "source": [
    "temp_summer_obs = df_obs[(df_obs[\"Mon\"]<=2)+(df_obs[\"Mon\"]>=10)][\"temp\"]\n",
    "temp_winter_obs = df_obs[(df_obs[\"Mon\"]>=3)+(df_obs[\"Mon\"]<=9)][\"temp\"]\n",
    "stats.bartlett(temp_winter_obs, temp_summer_obs)"
   ]
  },
  {
   "cell_type": "code",
   "execution_count": 29,
   "metadata": {},
   "outputs": [
    {
     "data": {
      "text/plain": [
       "BartlettResult(statistic=8.943717868749152, pvalue=0.002784254497742505)"
      ]
     },
     "execution_count": 29,
     "metadata": {},
     "output_type": "execute_result"
    }
   ],
   "source": [
    "d18O_summer_obs = df_obs[(df_obs[\"Mon\"]<=2)+(df_obs[\"Mon\"]>=10)][\"d18O\"]\n",
    "d18O_winter_obs = df_obs[(df_obs[\"Mon\"]>=3)+(df_obs[\"Mon\"]<=9)][\"d18O\"]\n",
    "stats.bartlett(d18O_winter_obs, d18O_summer_obs)"
   ]
  },
  {
   "cell_type": "markdown",
   "metadata": {},
   "source": [
    "## Non-parametric tests"
   ]
  },
  {
   "cell_type": "code",
   "execution_count": 119,
   "metadata": {},
   "outputs": [],
   "source": [
    "p_value=0.05"
   ]
  },
  {
   "cell_type": "code",
   "execution_count": 30,
   "metadata": {},
   "outputs": [],
   "source": [
    "def spearmanr(varin, var1,var2, p_value=0.05):\n",
    "    # https://qiita.com/dacciinfo/items/88debe69f9f4e927aafc\n",
    "    df_out = pd.DataFrame.from_dict({\n",
    "        \"r\":np.zeros(12),\n",
    "        \"p\":np.zeros(12)\n",
    "    }, orient=\"columns\")\n",
    "    df_out.index = mons[\"\"][:12]\n",
    "    \n",
    "    for mm in range(12):\n",
    "        df =  varin[varin[\"Mon\"]==mm+1]   \n",
    "        df_out[\"r\"][mm], df_out[\"p\"][mm] = stats.spearmanr(df[var1],df[var2])\n",
    "    return df_out.T"
   ]
  },
  {
   "cell_type": "code",
   "execution_count": 44,
   "metadata": {},
   "outputs": [],
   "source": [
    "p_value=0.05"
   ]
  },
  {
   "cell_type": "code",
   "execution_count": 51,
   "metadata": {},
   "outputs": [
    {
     "data": {
      "text/html": [
       "<div>\n",
       "<style scoped>\n",
       "    .dataframe tbody tr th:only-of-type {\n",
       "        vertical-align: middle;\n",
       "    }\n",
       "\n",
       "    .dataframe tbody tr th {\n",
       "        vertical-align: top;\n",
       "    }\n",
       "\n",
       "    .dataframe thead th {\n",
       "        text-align: right;\n",
       "    }\n",
       "</style>\n",
       "<table border=\"1\" class=\"dataframe\">\n",
       "  <thead>\n",
       "    <tr style=\"text-align: right;\">\n",
       "      <th></th>\n",
       "      <th>Jan</th>\n",
       "      <th>Feb</th>\n",
       "      <th>Mar</th>\n",
       "      <th>Apr</th>\n",
       "      <th>May</th>\n",
       "      <th>Jun</th>\n",
       "      <th>Jul</th>\n",
       "      <th>Aug</th>\n",
       "      <th>Sep</th>\n",
       "      <th>Oct</th>\n",
       "      <th>Nov</th>\n",
       "      <th>Dec</th>\n",
       "    </tr>\n",
       "  </thead>\n",
       "  <tbody>\n",
       "    <tr>\n",
       "      <th>Number</th>\n",
       "      <td>930</td>\n",
       "      <td>847</td>\n",
       "      <td>930</td>\n",
       "      <td>900</td>\n",
       "      <td>926</td>\n",
       "      <td>896</td>\n",
       "      <td>922</td>\n",
       "      <td>923</td>\n",
       "      <td>884</td>\n",
       "      <td>853</td>\n",
       "      <td>893</td>\n",
       "      <td>930</td>\n",
       "    </tr>\n",
       "    <tr>\n",
       "      <th>RSAT</th>\n",
       "      <td>NaN</td>\n",
       "      <td>0.59</td>\n",
       "      <td>0.53</td>\n",
       "      <td>0.43</td>\n",
       "      <td>0.49</td>\n",
       "      <td>0.54</td>\n",
       "      <td>0.56</td>\n",
       "      <td>0.51</td>\n",
       "      <td>0.47</td>\n",
       "      <td>0.60</td>\n",
       "      <td>0.38</td>\n",
       "      <td>NaN</td>\n",
       "    </tr>\n",
       "    <tr>\n",
       "      <th>pSAT</th>\n",
       "      <td>3.80E-01</td>\n",
       "      <td>5.22E-80</td>\n",
       "      <td>3.64E-67</td>\n",
       "      <td>2.40E-42</td>\n",
       "      <td>3.08E-57</td>\n",
       "      <td>5.53E-69</td>\n",
       "      <td>1.66E-78</td>\n",
       "      <td>3.21E-62</td>\n",
       "      <td>1.25E-49</td>\n",
       "      <td>1.38E-83</td>\n",
       "      <td>1.24E-31</td>\n",
       "      <td>8.46E-01</td>\n",
       "    </tr>\n",
       "    <tr>\n",
       "      <th>RP</th>\n",
       "      <td>-0.42</td>\n",
       "      <td>-0.12</td>\n",
       "      <td>0.40</td>\n",
       "      <td>0.56</td>\n",
       "      <td>0.45</td>\n",
       "      <td>0.51</td>\n",
       "      <td>0.47</td>\n",
       "      <td>0.44</td>\n",
       "      <td>0.46</td>\n",
       "      <td>0.25</td>\n",
       "      <td>-0.27</td>\n",
       "      <td>-0.52</td>\n",
       "    </tr>\n",
       "    <tr>\n",
       "      <th>pP</th>\n",
       "      <td>5.15E-42</td>\n",
       "      <td>6.32E-04</td>\n",
       "      <td>2.43E-36</td>\n",
       "      <td>9.58E-77</td>\n",
       "      <td>5.55E-47</td>\n",
       "      <td>2.09E-59</td>\n",
       "      <td>5.95E-51</td>\n",
       "      <td>4.48E-46</td>\n",
       "      <td>1.47E-46</td>\n",
       "      <td>5.18E-14</td>\n",
       "      <td>1.60E-16</td>\n",
       "      <td>9.61E-65</td>\n",
       "    </tr>\n",
       "    <tr>\n",
       "      <th>RSAM</th>\n",
       "      <td>NaN</td>\n",
       "      <td>-0.10</td>\n",
       "      <td>-0.16</td>\n",
       "      <td>-0.18</td>\n",
       "      <td>-0.26</td>\n",
       "      <td>-0.34</td>\n",
       "      <td>-0.48</td>\n",
       "      <td>-0.39</td>\n",
       "      <td>-0.33</td>\n",
       "      <td>-0.29</td>\n",
       "      <td>-0.16</td>\n",
       "      <td>-0.09</td>\n",
       "    </tr>\n",
       "    <tr>\n",
       "      <th>pSAM</th>\n",
       "      <td>1.01E-01</td>\n",
       "      <td>4.59E-03</td>\n",
       "      <td>1.16E-06</td>\n",
       "      <td>5.96E-08</td>\n",
       "      <td>3.11E-16</td>\n",
       "      <td>3.10E-26</td>\n",
       "      <td>6.43E-55</td>\n",
       "      <td>9.37E-36</td>\n",
       "      <td>1.43E-24</td>\n",
       "      <td>2.51E-18</td>\n",
       "      <td>1.35E-06</td>\n",
       "      <td>5.00E-03</td>\n",
       "    </tr>\n",
       "  </tbody>\n",
       "</table>\n",
       "</div>"
      ],
      "text/plain": [
       "             Jan       Feb       Mar       Apr       May       Jun       Jul  \\\n",
       "Number       930       847       930       900       926       896       922   \n",
       "RSAT         NaN      0.59      0.53      0.43      0.49      0.54      0.56   \n",
       "pSAT    3.80E-01  5.22E-80  3.64E-67  2.40E-42  3.08E-57  5.53E-69  1.66E-78   \n",
       "RP         -0.42     -0.12      0.40      0.56      0.45      0.51      0.47   \n",
       "pP      5.15E-42  6.32E-04  2.43E-36  9.58E-77  5.55E-47  2.09E-59  5.95E-51   \n",
       "RSAM         NaN     -0.10     -0.16     -0.18     -0.26     -0.34     -0.48   \n",
       "pSAM    1.01E-01  4.59E-03  1.16E-06  5.96E-08  3.11E-16  3.10E-26  6.43E-55   \n",
       "\n",
       "             Aug       Sep       Oct       Nov       Dec  \n",
       "Number       923       884       853       893       930  \n",
       "RSAT        0.51      0.47      0.60      0.38       NaN  \n",
       "pSAT    3.21E-62  1.25E-49  1.38E-83  1.24E-31  8.46E-01  \n",
       "RP          0.44      0.46      0.25     -0.27     -0.52  \n",
       "pP      4.48E-46  1.47E-46  5.18E-14  1.60E-16  9.61E-65  \n",
       "RSAM       -0.39     -0.33     -0.29     -0.16     -0.09  \n",
       "pSAM    9.37E-36  1.43E-24  2.51E-18  1.35E-06  5.00E-03  "
      ]
     },
     "metadata": {},
     "output_type": "display_data"
    }
   ],
   "source": [
    "df_spearmanr = pd.DataFrame(\n",
    "    data=[map(str,map(int,num[:12])),\n",
    "          ['{:.2f}'.format(n) for n in (spearmanr(df_all[[\"Mon\",\"d18O\",\"temp\"]],\"temp\",\"d18O\").T[\"r\"].values )],\n",
    "          spearmanr(df_all[[\"Mon\",\"d18O\",\"temp\"]],\"temp\",\"d18O\").T[\"p\"].values,\n",
    "          ['{:.2f}'.format(n) for n in (spearmanr(df_all[[\"Mon\",\"d18O\",\"prcp\"]],\"prcp\",\"d18O\").T[\"r\"].values )],\n",
    "          spearmanr(df_all[[\"Mon\",\"d18O\",\"prcp\"]],\"prcp\",\"d18O\").T[\"p\"].values,\n",
    "          ['{:.2f}'.format(n) for n in (spearmanr(df_all[[\"Mon\",\"d18O\",\"sam\" ]],\"sam\" ,\"d18O\").T[\"r\"].values )],\n",
    "          spearmanr(df_all[[\"Mon\",\"d18O\",\"sam\" ]],\"sam\" ,\"d18O\").T[\"p\"].values\n",
    "    ],\n",
    "    index=[\"Number\",\"RSAT\",\"pSAT\", \"RP\", \"pP\", \"RSAM\", \"pSAM\"],\n",
    "    columns=indexlist[:12]).T\n",
    "\n",
    "df_spearmanr[\"RSAT\"][df_spearmanr[\"pSAT\"]>p_value] = np.nan\n",
    "df_spearmanr[\"RP\"][df_spearmanr[\"pP\"]>p_value] = np.nan\n",
    "df_spearmanr[\"RSAM\" ][df_spearmanr[\"pSAM\" ]>p_value] = np.nan\n",
    "df_spearmanr[\"pSAT\"] = ['{:.2E}'.format(n) for n in (df_spearmanr[\"pSAT\"])]\n",
    "df_spearmanr[\"pP\"] = ['{:.2E}'.format(n) for n in (df_spearmanr[\"pP\"])]\n",
    "df_spearmanr[\"pSAM\" ] = ['{:.2E}'.format(n) for n in (df_spearmanr[\"pSAM\" ])]\n",
    "\n",
    "display(df_spearmanr.T)"
   ]
  },
  {
   "cell_type": "code",
   "execution_count": 52,
   "metadata": {},
   "outputs": [
    {
     "ename": "ValueError",
     "evalue": "12 columns passed, passed data had 13 columns",
     "output_type": "error",
     "traceback": [
      "\u001b[0;31m---------------------------------------------------------------------------\u001b[0m",
      "\u001b[0;31mAssertionError\u001b[0m                            Traceback (most recent call last)",
      "\u001b[0;32m~/anaconda3/envs/py2021/lib/python3.7/site-packages/pandas/core/internals/construction.py\u001b[0m in \u001b[0;36m_list_to_arrays\u001b[0;34m(data, columns, coerce_float, dtype)\u001b[0m\n\u001b[1;32m    567\u001b[0m     \u001b[0;32mtry\u001b[0m\u001b[0;34m:\u001b[0m\u001b[0;34m\u001b[0m\u001b[0;34m\u001b[0m\u001b[0m\n\u001b[0;32m--> 568\u001b[0;31m         \u001b[0mcolumns\u001b[0m \u001b[0;34m=\u001b[0m \u001b[0m_validate_or_indexify_columns\u001b[0m\u001b[0;34m(\u001b[0m\u001b[0mcontent\u001b[0m\u001b[0;34m,\u001b[0m \u001b[0mcolumns\u001b[0m\u001b[0;34m)\u001b[0m\u001b[0;34m\u001b[0m\u001b[0;34m\u001b[0m\u001b[0m\n\u001b[0m\u001b[1;32m    569\u001b[0m         \u001b[0mresult\u001b[0m \u001b[0;34m=\u001b[0m \u001b[0m_convert_object_array\u001b[0m\u001b[0;34m(\u001b[0m\u001b[0mcontent\u001b[0m\u001b[0;34m,\u001b[0m \u001b[0mdtype\u001b[0m\u001b[0;34m=\u001b[0m\u001b[0mdtype\u001b[0m\u001b[0;34m,\u001b[0m \u001b[0mcoerce_float\u001b[0m\u001b[0;34m=\u001b[0m\u001b[0mcoerce_float\u001b[0m\u001b[0;34m)\u001b[0m\u001b[0;34m\u001b[0m\u001b[0;34m\u001b[0m\u001b[0m\n",
      "\u001b[0;32m~/anaconda3/envs/py2021/lib/python3.7/site-packages/pandas/core/internals/construction.py\u001b[0m in \u001b[0;36m_validate_or_indexify_columns\u001b[0;34m(content, columns)\u001b[0m\n\u001b[1;32m    692\u001b[0m             raise AssertionError(\n\u001b[0;32m--> 693\u001b[0;31m                 \u001b[0;34mf\"{len(columns)} columns passed, passed data had \"\u001b[0m\u001b[0;34m\u001b[0m\u001b[0;34m\u001b[0m\u001b[0m\n\u001b[0m\u001b[1;32m    694\u001b[0m                 \u001b[0;34mf\"{len(content)} columns\"\u001b[0m\u001b[0;34m\u001b[0m\u001b[0;34m\u001b[0m\u001b[0m\n",
      "\u001b[0;31mAssertionError\u001b[0m: 12 columns passed, passed data had 13 columns",
      "\nThe above exception was the direct cause of the following exception:\n",
      "\u001b[0;31mValueError\u001b[0m                                Traceback (most recent call last)",
      "\u001b[0;32m<ipython-input-52-b7520ebddff3>\u001b[0m in \u001b[0;36m<module>\u001b[0;34m\u001b[0m\n\u001b[1;32m      9\u001b[0m     ],\n\u001b[1;32m     10\u001b[0m     \u001b[0mindex\u001b[0m\u001b[0;34m=\u001b[0m\u001b[0;34m[\u001b[0m\u001b[0;34m\"Number\"\u001b[0m\u001b[0;34m,\u001b[0m\u001b[0;34m\"$R_\\mathsf{{\\Delta SAT}}$\"\u001b[0m\u001b[0;34m,\u001b[0m\u001b[0;34m\"$p_\\mathsf{{\\Delta SAT}}$\"\u001b[0m\u001b[0;34m,\u001b[0m \u001b[0;34m\"$R_\\mathsf{{P}}$\"\u001b[0m\u001b[0;34m,\u001b[0m \u001b[0;34m\"$p_\\mathsf{{P}}$\"\u001b[0m\u001b[0;34m,\u001b[0m \u001b[0;34m\"$R_\\mathsf{{SAM}}$\"\u001b[0m\u001b[0;34m,\u001b[0m \u001b[0;34m\"$p_\\mathsf{{SAM}}$\"\u001b[0m\u001b[0;34m]\u001b[0m\u001b[0;34m,\u001b[0m\u001b[0;34m\u001b[0m\u001b[0;34m\u001b[0m\u001b[0m\n\u001b[0;32m---> 11\u001b[0;31m     columns=mons[\"\"][:12]).T\n\u001b[0m\u001b[1;32m     12\u001b[0m \u001b[0;34m\u001b[0m\u001b[0m\n\u001b[1;32m     13\u001b[0m \u001b[0mdf_spearmanr\u001b[0m\u001b[0;34m[\u001b[0m\u001b[0;34m\"$R_\\mathsf{{\\Delta SAT}}$\"\u001b[0m\u001b[0;34m]\u001b[0m\u001b[0;34m[\u001b[0m\u001b[0mdf_spearmanr\u001b[0m\u001b[0;34m[\u001b[0m\u001b[0;34m\"$p_\\mathsf{{\\Delta SAT}}$\"\u001b[0m\u001b[0;34m]\u001b[0m\u001b[0;34m>\u001b[0m\u001b[0mp_value\u001b[0m\u001b[0;34m]\u001b[0m \u001b[0;34m=\u001b[0m \u001b[0mnp\u001b[0m\u001b[0;34m.\u001b[0m\u001b[0mnan\u001b[0m\u001b[0;34m\u001b[0m\u001b[0;34m\u001b[0m\u001b[0m\n",
      "\u001b[0;32m~/anaconda3/envs/py2021/lib/python3.7/site-packages/pandas/core/frame.py\u001b[0m in \u001b[0;36m__init__\u001b[0;34m(self, data, index, columns, dtype, copy)\u001b[0m\n\u001b[1;32m    568\u001b[0m                     \u001b[0;32mif\u001b[0m \u001b[0mis_named_tuple\u001b[0m\u001b[0;34m(\u001b[0m\u001b[0mdata\u001b[0m\u001b[0;34m[\u001b[0m\u001b[0;36m0\u001b[0m\u001b[0;34m]\u001b[0m\u001b[0;34m)\u001b[0m \u001b[0;32mand\u001b[0m \u001b[0mcolumns\u001b[0m \u001b[0;32mis\u001b[0m \u001b[0;32mNone\u001b[0m\u001b[0;34m:\u001b[0m\u001b[0;34m\u001b[0m\u001b[0;34m\u001b[0m\u001b[0m\n\u001b[1;32m    569\u001b[0m                         \u001b[0mcolumns\u001b[0m \u001b[0;34m=\u001b[0m \u001b[0mdata\u001b[0m\u001b[0;34m[\u001b[0m\u001b[0;36m0\u001b[0m\u001b[0;34m]\u001b[0m\u001b[0;34m.\u001b[0m\u001b[0m_fields\u001b[0m\u001b[0;34m\u001b[0m\u001b[0;34m\u001b[0m\u001b[0m\n\u001b[0;32m--> 570\u001b[0;31m                     \u001b[0marrays\u001b[0m\u001b[0;34m,\u001b[0m \u001b[0mcolumns\u001b[0m \u001b[0;34m=\u001b[0m \u001b[0mto_arrays\u001b[0m\u001b[0;34m(\u001b[0m\u001b[0mdata\u001b[0m\u001b[0;34m,\u001b[0m \u001b[0mcolumns\u001b[0m\u001b[0;34m,\u001b[0m \u001b[0mdtype\u001b[0m\u001b[0;34m=\u001b[0m\u001b[0mdtype\u001b[0m\u001b[0;34m)\u001b[0m\u001b[0;34m\u001b[0m\u001b[0;34m\u001b[0m\u001b[0m\n\u001b[0m\u001b[1;32m    571\u001b[0m                     \u001b[0mcolumns\u001b[0m \u001b[0;34m=\u001b[0m \u001b[0mensure_index\u001b[0m\u001b[0;34m(\u001b[0m\u001b[0mcolumns\u001b[0m\u001b[0;34m)\u001b[0m\u001b[0;34m\u001b[0m\u001b[0;34m\u001b[0m\u001b[0m\n\u001b[1;32m    572\u001b[0m \u001b[0;34m\u001b[0m\u001b[0m\n",
      "\u001b[0;32m~/anaconda3/envs/py2021/lib/python3.7/site-packages/pandas/core/internals/construction.py\u001b[0m in \u001b[0;36mto_arrays\u001b[0;34m(data, columns, coerce_float, dtype)\u001b[0m\n\u001b[1;32m    550\u001b[0m         \u001b[0;31m# last ditch effort\u001b[0m\u001b[0;34m\u001b[0m\u001b[0;34m\u001b[0m\u001b[0;34m\u001b[0m\u001b[0m\n\u001b[1;32m    551\u001b[0m         \u001b[0mdata\u001b[0m \u001b[0;34m=\u001b[0m \u001b[0;34m[\u001b[0m\u001b[0mtuple\u001b[0m\u001b[0;34m(\u001b[0m\u001b[0mx\u001b[0m\u001b[0;34m)\u001b[0m \u001b[0;32mfor\u001b[0m \u001b[0mx\u001b[0m \u001b[0;32min\u001b[0m \u001b[0mdata\u001b[0m\u001b[0;34m]\u001b[0m\u001b[0;34m\u001b[0m\u001b[0;34m\u001b[0m\u001b[0m\n\u001b[0;32m--> 552\u001b[0;31m         \u001b[0;32mreturn\u001b[0m \u001b[0m_list_to_arrays\u001b[0m\u001b[0;34m(\u001b[0m\u001b[0mdata\u001b[0m\u001b[0;34m,\u001b[0m \u001b[0mcolumns\u001b[0m\u001b[0;34m,\u001b[0m \u001b[0mcoerce_float\u001b[0m\u001b[0;34m=\u001b[0m\u001b[0mcoerce_float\u001b[0m\u001b[0;34m,\u001b[0m \u001b[0mdtype\u001b[0m\u001b[0;34m=\u001b[0m\u001b[0mdtype\u001b[0m\u001b[0;34m)\u001b[0m\u001b[0;34m\u001b[0m\u001b[0;34m\u001b[0m\u001b[0m\n\u001b[0m\u001b[1;32m    553\u001b[0m \u001b[0;34m\u001b[0m\u001b[0m\n\u001b[1;32m    554\u001b[0m \u001b[0;34m\u001b[0m\u001b[0m\n",
      "\u001b[0;32m~/anaconda3/envs/py2021/lib/python3.7/site-packages/pandas/core/internals/construction.py\u001b[0m in \u001b[0;36m_list_to_arrays\u001b[0;34m(data, columns, coerce_float, dtype)\u001b[0m\n\u001b[1;32m    569\u001b[0m         \u001b[0mresult\u001b[0m \u001b[0;34m=\u001b[0m \u001b[0m_convert_object_array\u001b[0m\u001b[0;34m(\u001b[0m\u001b[0mcontent\u001b[0m\u001b[0;34m,\u001b[0m \u001b[0mdtype\u001b[0m\u001b[0;34m=\u001b[0m\u001b[0mdtype\u001b[0m\u001b[0;34m,\u001b[0m \u001b[0mcoerce_float\u001b[0m\u001b[0;34m=\u001b[0m\u001b[0mcoerce_float\u001b[0m\u001b[0;34m)\u001b[0m\u001b[0;34m\u001b[0m\u001b[0;34m\u001b[0m\u001b[0m\n\u001b[1;32m    570\u001b[0m     \u001b[0;32mexcept\u001b[0m \u001b[0mAssertionError\u001b[0m \u001b[0;32mas\u001b[0m \u001b[0me\u001b[0m\u001b[0;34m:\u001b[0m\u001b[0;34m\u001b[0m\u001b[0;34m\u001b[0m\u001b[0m\n\u001b[0;32m--> 571\u001b[0;31m         \u001b[0;32mraise\u001b[0m \u001b[0mValueError\u001b[0m\u001b[0;34m(\u001b[0m\u001b[0me\u001b[0m\u001b[0;34m)\u001b[0m \u001b[0;32mfrom\u001b[0m \u001b[0me\u001b[0m\u001b[0;34m\u001b[0m\u001b[0;34m\u001b[0m\u001b[0m\n\u001b[0m\u001b[1;32m    572\u001b[0m     \u001b[0;32mreturn\u001b[0m \u001b[0mresult\u001b[0m\u001b[0;34m,\u001b[0m \u001b[0mcolumns\u001b[0m\u001b[0;34m\u001b[0m\u001b[0;34m\u001b[0m\u001b[0m\n\u001b[1;32m    573\u001b[0m \u001b[0;34m\u001b[0m\u001b[0m\n",
      "\u001b[0;31mValueError\u001b[0m: 12 columns passed, passed data had 13 columns"
     ]
    }
   ],
   "source": [
    "df_spearmanr = pd.DataFrame(\n",
    "    data=[map(str,map(int,num_obs)),\n",
    "          ['{:.2f}'.format(n) for n in (spearmanr(df_obs[[\"Mon\",\"d18O\",\"temp\"]],\"temp\",\"d18O\").T[\"r\"].values )],\n",
    "          spearmanr(df_obs[[\"Mon\",\"d18O\",\"temp\"]],\"temp\",\"d18O\").T[\"p\"].values,\n",
    "          ['{:.2f}'.format(n) for n in (spearmanr(df_obs[[\"Mon\",\"d18O\",\"prcp\"]],\"prcp\",\"d18O\").T[\"r\"].values )],\n",
    "          spearmanr(df_obs[[\"Mon\",\"d18O\",\"prcp\"]],\"prcp\",\"d18O\").T[\"p\"].values,\n",
    "          ['{:.2f}'.format(n) for n in (spearmanr(df_obs[[\"Mon\",\"d18O\",\"sam\" ]],\"sam\" ,\"d18O\").T[\"r\"].values )],\n",
    "          spearmanr(df_obs[[\"Mon\",\"d18O\",\"sam\" ]],\"sam\" ,\"d18O\").T[\"p\"].values\n",
    "    ],\n",
    "    index=[\"Number\",\"$R_\\mathsf{{\\Delta SAT}}$\",\"$p_\\mathsf{{\\Delta SAT}}$\", \"$R_\\mathsf{{P}}$\", \"$p_\\mathsf{{P}}$\", \"$R_\\mathsf{{SAM}}$\", \"$p_\\mathsf{{SAM}}$\"],\n",
    "    columns=mons[\"\"][:12]).T\n",
    "\n",
    "df_spearmanr[\"$R_\\mathsf{{\\Delta SAT}}$\"][df_spearmanr[\"$p_\\mathsf{{\\Delta SAT}}$\"]>p_value] = np.nan\n",
    "df_spearmanr[\"$R_\\mathsf{{P}}$\"][df_spearmanr[\"$p_\\mathsf{{P}}$\"]>p_value] = np.nan\n",
    "df_spearmanr[\"$R_\\mathsf{{SAM}}$\" ][df_spearmanr[\"$p_\\mathsf{{SAM}}$\" ]>p_value] = np.nan\n",
    "df_spearmanr[\"$p_\\mathsf{{\\Delta SAT}}$\"] = ['{:.2E}'.format(n) for n in (df_spearmanr[\"$p_\\mathsf{{\\Delta SAT}}$\"])]\n",
    "df_spearmanr[\"$p_\\mathsf{{P}}$\"] = ['{:.2E}'.format(n) for n in (df_spearmanr[\"$p_\\mathsf{{P}}$\"])]\n",
    "df_spearmanr[\"$p_\\mathsf{{SAM}}$\" ] = ['{:.2E}'.format(n) for n in (df_spearmanr[\"$p_\\mathsf{{SAM}}$\" ])]\n",
    "display(df_spearmanr.T)"
   ]
  },
  {
   "cell_type": "code",
   "execution_count": 54,
   "metadata": {},
   "outputs": [],
   "source": [
    "def draw_d18O2(df):\n",
    "    x=np.arange(1,13,1)\n",
    "    ax  = fig.add_subplot(1,1,1)\n",
    "    ax.plot(    x,   df[\"$R_\\mathsf{{\\Delta SAT}}$\"],label=\"Surface Air Temperature Anomaly\",\n",
    "            linewidth=1 ,                  color=\"red\")\n",
    "    ax.scatter( x,   df[\"$R_\\mathsf{{\\Delta SAT}}$\"],\\\n",
    "               marker=\"o\"   ,linewidths=2, c=\"red\"      ,edgecolor=\"red\")\n",
    "    ax.plot(    x,   df[\"$R_\\mathsf{{P}}$\"],label=\"Daily Precipitation\",\n",
    "            linewidth=1 ,                  color=\"darkgreen\")\n",
    "    ax.scatter( x,   df[\"$R_\\mathsf{{P}}$\"],\\\n",
    "               marker=\"o\"   ,linewidths=2, c=\"darkgreen\",edgecolor=\"darkgreen\")\n",
    "    ax.plot(    x,   df[\"$R_\\mathsf{{SAM}}$\" ],label=\"SAM-index\"  ,\n",
    "            linewidth=1 ,                  color=\"blue\")\n",
    "    ax.scatter( x,   df[\"$R_\\mathsf{{SAM}}$\"],\\\n",
    "               marker=\"o\"   ,linewidths=2, c=\"blue\"     ,edgecolor=\"blue\")\n",
    "    #\n",
    "    ax.set_xticks(x)\n",
    "    ax.set_xticklabels(mons[\"\"][:12])\n",
    "#    ax.set_ylim( (-0.6,0.6))\n",
    "    ax.set_yticks([-0.6,-0.4,-0.2,0,0.2,0.4,0.6])\n",
    "    ax.axhline(y= 0.0,ls='-' ,linewidth=0.5, color='k')\n",
    "    ax.axhline(y=-0.2,ls='--',linewidth=0.5, color='k')\n",
    "    ax.axhline(y=-0.4,ls='--',linewidth=0.5, color='k')\n",
    "    ax.axhline(y=-0.6,ls='--',linewidth=0.5, color='k')\n",
    "    ax.axhline(y=-0.8,ls='--',linewidth=0.5, color='k')\n",
    "    ax.axhline(y= 0.2,ls='--',linewidth=0.5, color='k')\n",
    "    ax.axhline(y= 0.4,ls='--',linewidth=0.5, color='k')\n",
    "    ax.axhline(y= 0.6,ls='--',linewidth=0.5, color='k')\n",
    "    ax.axhline(y= 0.8,ls='--',linewidth=0.5, color='k')\n",
    "    ax.legend(loc=\"center\")\n",
    "    #\n",
    "    ax.set_ylabel(\"Correlation coefficient\")"
   ]
  },
  {
   "cell_type": "code",
   "execution_count": 55,
   "metadata": {},
   "outputs": [
    {
     "ename": "ValueError",
     "evalue": "12 columns passed, passed data had 13 columns",
     "output_type": "error",
     "traceback": [
      "\u001b[0;31m---------------------------------------------------------------------------\u001b[0m",
      "\u001b[0;31mAssertionError\u001b[0m                            Traceback (most recent call last)",
      "\u001b[0;32m~/anaconda3/envs/py2021/lib/python3.7/site-packages/pandas/core/internals/construction.py\u001b[0m in \u001b[0;36m_list_to_arrays\u001b[0;34m(data, columns, coerce_float, dtype)\u001b[0m\n\u001b[1;32m    567\u001b[0m     \u001b[0;32mtry\u001b[0m\u001b[0;34m:\u001b[0m\u001b[0;34m\u001b[0m\u001b[0;34m\u001b[0m\u001b[0m\n\u001b[0;32m--> 568\u001b[0;31m         \u001b[0mcolumns\u001b[0m \u001b[0;34m=\u001b[0m \u001b[0m_validate_or_indexify_columns\u001b[0m\u001b[0;34m(\u001b[0m\u001b[0mcontent\u001b[0m\u001b[0;34m,\u001b[0m \u001b[0mcolumns\u001b[0m\u001b[0;34m)\u001b[0m\u001b[0;34m\u001b[0m\u001b[0;34m\u001b[0m\u001b[0m\n\u001b[0m\u001b[1;32m    569\u001b[0m         \u001b[0mresult\u001b[0m \u001b[0;34m=\u001b[0m \u001b[0m_convert_object_array\u001b[0m\u001b[0;34m(\u001b[0m\u001b[0mcontent\u001b[0m\u001b[0;34m,\u001b[0m \u001b[0mdtype\u001b[0m\u001b[0;34m=\u001b[0m\u001b[0mdtype\u001b[0m\u001b[0;34m,\u001b[0m \u001b[0mcoerce_float\u001b[0m\u001b[0;34m=\u001b[0m\u001b[0mcoerce_float\u001b[0m\u001b[0;34m)\u001b[0m\u001b[0;34m\u001b[0m\u001b[0;34m\u001b[0m\u001b[0m\n",
      "\u001b[0;32m~/anaconda3/envs/py2021/lib/python3.7/site-packages/pandas/core/internals/construction.py\u001b[0m in \u001b[0;36m_validate_or_indexify_columns\u001b[0;34m(content, columns)\u001b[0m\n\u001b[1;32m    692\u001b[0m             raise AssertionError(\n\u001b[0;32m--> 693\u001b[0;31m                 \u001b[0;34mf\"{len(columns)} columns passed, passed data had \"\u001b[0m\u001b[0;34m\u001b[0m\u001b[0;34m\u001b[0m\u001b[0m\n\u001b[0m\u001b[1;32m    694\u001b[0m                 \u001b[0;34mf\"{len(content)} columns\"\u001b[0m\u001b[0;34m\u001b[0m\u001b[0;34m\u001b[0m\u001b[0m\n",
      "\u001b[0;31mAssertionError\u001b[0m: 12 columns passed, passed data had 13 columns",
      "\nThe above exception was the direct cause of the following exception:\n",
      "\u001b[0;31mValueError\u001b[0m                                Traceback (most recent call last)",
      "\u001b[0;32m<ipython-input-55-2522558fa6da>\u001b[0m in \u001b[0;36m<module>\u001b[0;34m\u001b[0m\n\u001b[1;32m      9\u001b[0m          ],\n\u001b[1;32m     10\u001b[0m     \u001b[0mindex\u001b[0m\u001b[0;34m=\u001b[0m\u001b[0;34m[\u001b[0m\u001b[0;34m\"Number\"\u001b[0m\u001b[0;34m,\u001b[0m\u001b[0;34m\"$R_\\mathsf{{\\Delta SAT}}$\"\u001b[0m\u001b[0;34m,\u001b[0m\u001b[0;34m\"$p_\\mathsf{{\\Delta SAT}}$\"\u001b[0m\u001b[0;34m,\u001b[0m \u001b[0;34m\"$R_\\mathsf{{P}}$\"\u001b[0m\u001b[0;34m,\u001b[0m \u001b[0;34m\"$p_\\mathsf{{P}}$\"\u001b[0m\u001b[0;34m,\u001b[0m \u001b[0;34m\"$R_\\mathsf{{SAM}}$\"\u001b[0m\u001b[0;34m,\u001b[0m \u001b[0;34m\"$p_\\mathsf{{SAM}}$\"\u001b[0m\u001b[0;34m]\u001b[0m\u001b[0;34m,\u001b[0m\u001b[0;34m\u001b[0m\u001b[0;34m\u001b[0m\u001b[0m\n\u001b[0;32m---> 11\u001b[0;31m     columns=mons[\"\"][:12]).T\n\u001b[0m\u001b[1;32m     12\u001b[0m \u001b[0;34m\u001b[0m\u001b[0m\n\u001b[1;32m     13\u001b[0m \u001b[0mdf_spearmanr_obs\u001b[0m\u001b[0;34m[\u001b[0m\u001b[0;34m\"$R_\\mathsf{{\\Delta SAT}}$\"\u001b[0m\u001b[0;34m]\u001b[0m\u001b[0;34m[\u001b[0m\u001b[0mdf_spearmanr_obs\u001b[0m\u001b[0;34m[\u001b[0m\u001b[0;34m\"$p_\\mathsf{{\\Delta SAT}}$\"\u001b[0m\u001b[0;34m]\u001b[0m\u001b[0;34m>\u001b[0m\u001b[0mp_value\u001b[0m\u001b[0;34m]\u001b[0m \u001b[0;34m=\u001b[0m \u001b[0mnp\u001b[0m\u001b[0;34m.\u001b[0m\u001b[0mnan\u001b[0m\u001b[0;34m\u001b[0m\u001b[0;34m\u001b[0m\u001b[0m\n",
      "\u001b[0;32m~/anaconda3/envs/py2021/lib/python3.7/site-packages/pandas/core/frame.py\u001b[0m in \u001b[0;36m__init__\u001b[0;34m(self, data, index, columns, dtype, copy)\u001b[0m\n\u001b[1;32m    568\u001b[0m                     \u001b[0;32mif\u001b[0m \u001b[0mis_named_tuple\u001b[0m\u001b[0;34m(\u001b[0m\u001b[0mdata\u001b[0m\u001b[0;34m[\u001b[0m\u001b[0;36m0\u001b[0m\u001b[0;34m]\u001b[0m\u001b[0;34m)\u001b[0m \u001b[0;32mand\u001b[0m \u001b[0mcolumns\u001b[0m \u001b[0;32mis\u001b[0m \u001b[0;32mNone\u001b[0m\u001b[0;34m:\u001b[0m\u001b[0;34m\u001b[0m\u001b[0;34m\u001b[0m\u001b[0m\n\u001b[1;32m    569\u001b[0m                         \u001b[0mcolumns\u001b[0m \u001b[0;34m=\u001b[0m \u001b[0mdata\u001b[0m\u001b[0;34m[\u001b[0m\u001b[0;36m0\u001b[0m\u001b[0;34m]\u001b[0m\u001b[0;34m.\u001b[0m\u001b[0m_fields\u001b[0m\u001b[0;34m\u001b[0m\u001b[0;34m\u001b[0m\u001b[0m\n\u001b[0;32m--> 570\u001b[0;31m                     \u001b[0marrays\u001b[0m\u001b[0;34m,\u001b[0m \u001b[0mcolumns\u001b[0m \u001b[0;34m=\u001b[0m \u001b[0mto_arrays\u001b[0m\u001b[0;34m(\u001b[0m\u001b[0mdata\u001b[0m\u001b[0;34m,\u001b[0m \u001b[0mcolumns\u001b[0m\u001b[0;34m,\u001b[0m \u001b[0mdtype\u001b[0m\u001b[0;34m=\u001b[0m\u001b[0mdtype\u001b[0m\u001b[0;34m)\u001b[0m\u001b[0;34m\u001b[0m\u001b[0;34m\u001b[0m\u001b[0m\n\u001b[0m\u001b[1;32m    571\u001b[0m                     \u001b[0mcolumns\u001b[0m \u001b[0;34m=\u001b[0m \u001b[0mensure_index\u001b[0m\u001b[0;34m(\u001b[0m\u001b[0mcolumns\u001b[0m\u001b[0;34m)\u001b[0m\u001b[0;34m\u001b[0m\u001b[0;34m\u001b[0m\u001b[0m\n\u001b[1;32m    572\u001b[0m \u001b[0;34m\u001b[0m\u001b[0m\n",
      "\u001b[0;32m~/anaconda3/envs/py2021/lib/python3.7/site-packages/pandas/core/internals/construction.py\u001b[0m in \u001b[0;36mto_arrays\u001b[0;34m(data, columns, coerce_float, dtype)\u001b[0m\n\u001b[1;32m    550\u001b[0m         \u001b[0;31m# last ditch effort\u001b[0m\u001b[0;34m\u001b[0m\u001b[0;34m\u001b[0m\u001b[0;34m\u001b[0m\u001b[0m\n\u001b[1;32m    551\u001b[0m         \u001b[0mdata\u001b[0m \u001b[0;34m=\u001b[0m \u001b[0;34m[\u001b[0m\u001b[0mtuple\u001b[0m\u001b[0;34m(\u001b[0m\u001b[0mx\u001b[0m\u001b[0;34m)\u001b[0m \u001b[0;32mfor\u001b[0m \u001b[0mx\u001b[0m \u001b[0;32min\u001b[0m \u001b[0mdata\u001b[0m\u001b[0;34m]\u001b[0m\u001b[0;34m\u001b[0m\u001b[0;34m\u001b[0m\u001b[0m\n\u001b[0;32m--> 552\u001b[0;31m         \u001b[0;32mreturn\u001b[0m \u001b[0m_list_to_arrays\u001b[0m\u001b[0;34m(\u001b[0m\u001b[0mdata\u001b[0m\u001b[0;34m,\u001b[0m \u001b[0mcolumns\u001b[0m\u001b[0;34m,\u001b[0m \u001b[0mcoerce_float\u001b[0m\u001b[0;34m=\u001b[0m\u001b[0mcoerce_float\u001b[0m\u001b[0;34m,\u001b[0m \u001b[0mdtype\u001b[0m\u001b[0;34m=\u001b[0m\u001b[0mdtype\u001b[0m\u001b[0;34m)\u001b[0m\u001b[0;34m\u001b[0m\u001b[0;34m\u001b[0m\u001b[0m\n\u001b[0m\u001b[1;32m    553\u001b[0m \u001b[0;34m\u001b[0m\u001b[0m\n\u001b[1;32m    554\u001b[0m \u001b[0;34m\u001b[0m\u001b[0m\n",
      "\u001b[0;32m~/anaconda3/envs/py2021/lib/python3.7/site-packages/pandas/core/internals/construction.py\u001b[0m in \u001b[0;36m_list_to_arrays\u001b[0;34m(data, columns, coerce_float, dtype)\u001b[0m\n\u001b[1;32m    569\u001b[0m         \u001b[0mresult\u001b[0m \u001b[0;34m=\u001b[0m \u001b[0m_convert_object_array\u001b[0m\u001b[0;34m(\u001b[0m\u001b[0mcontent\u001b[0m\u001b[0;34m,\u001b[0m \u001b[0mdtype\u001b[0m\u001b[0;34m=\u001b[0m\u001b[0mdtype\u001b[0m\u001b[0;34m,\u001b[0m \u001b[0mcoerce_float\u001b[0m\u001b[0;34m=\u001b[0m\u001b[0mcoerce_float\u001b[0m\u001b[0;34m)\u001b[0m\u001b[0;34m\u001b[0m\u001b[0;34m\u001b[0m\u001b[0m\n\u001b[1;32m    570\u001b[0m     \u001b[0;32mexcept\u001b[0m \u001b[0mAssertionError\u001b[0m \u001b[0;32mas\u001b[0m \u001b[0me\u001b[0m\u001b[0;34m:\u001b[0m\u001b[0;34m\u001b[0m\u001b[0;34m\u001b[0m\u001b[0m\n\u001b[0;32m--> 571\u001b[0;31m         \u001b[0;32mraise\u001b[0m \u001b[0mValueError\u001b[0m\u001b[0;34m(\u001b[0m\u001b[0me\u001b[0m\u001b[0;34m)\u001b[0m \u001b[0;32mfrom\u001b[0m \u001b[0me\u001b[0m\u001b[0;34m\u001b[0m\u001b[0;34m\u001b[0m\u001b[0m\n\u001b[0m\u001b[1;32m    572\u001b[0m     \u001b[0;32mreturn\u001b[0m \u001b[0mresult\u001b[0m\u001b[0;34m,\u001b[0m \u001b[0mcolumns\u001b[0m\u001b[0;34m\u001b[0m\u001b[0;34m\u001b[0m\u001b[0m\n\u001b[1;32m    573\u001b[0m \u001b[0;34m\u001b[0m\u001b[0m\n",
      "\u001b[0;31mValueError\u001b[0m: 12 columns passed, passed data had 13 columns"
     ]
    }
   ],
   "source": [
    "df_spearmanr_obs = pd.DataFrame(\n",
    "    data=[num,\n",
    "          spearmanr(df_obs[[\"Mon\",\"d18O\",\"temp\"]],\"temp\",\"d18O\").T[\"r\"].values,\n",
    "          spearmanr(df_obs[[\"Mon\",\"d18O\",\"temp\"]],\"temp\",\"d18O\").T[\"p\"].values,\n",
    "          spearmanr(df_obs[[\"Mon\",\"d18O\",\"prcp\"]],\"prcp\",\"d18O\").T[\"r\"].values,\n",
    "          spearmanr(df_obs[[\"Mon\",\"d18O\",\"prcp\"]],\"prcp\",\"d18O\").T[\"p\"].values,\n",
    "          spearmanr(df_obs[[\"Mon\",\"d18O\",\"sam\" ]],\"sam\" ,\"d18O\").T[\"r\"].values,\n",
    "          spearmanr(df_obs[[\"Mon\",\"d18O\",\"sam\" ]],\"sam\" ,\"d18O\").T[\"p\"].values\n",
    "         ],\n",
    "    index=[\"Number\",\"$R_\\mathsf{{\\Delta SAT}}$\",\"$p_\\mathsf{{\\Delta SAT}}$\", \"$R_\\mathsf{{P}}$\", \"$p_\\mathsf{{P}}$\", \"$R_\\mathsf{{SAM}}$\", \"$p_\\mathsf{{SAM}}$\"],\n",
    "    columns=mons[\"\"][:12]).T\n",
    "\n",
    "df_spearmanr_obs[\"$R_\\mathsf{{\\Delta SAT}}$\"][df_spearmanr_obs[\"$p_\\mathsf{{\\Delta SAT}}$\"]>p_value] = np.nan\n",
    "df_spearmanr_obs[\"$R_\\mathsf{{P}}$\"][df_spearmanr_obs[\"$p_\\mathsf{{P}}$\"]>p_value] = np.nan\n",
    "df_spearmanr_obs[\"$R_\\mathsf{{SAM}}$\" ][df_spearmanr_obs[\"$p_\\mathsf{{SAM}}$\" ]>p_value] = np.nan\n",
    "#\n",
    "fig = plt.figure(figsize=(10,5)) \n",
    "ax = draw_d18O2(df_spearmanr_obs)\n",
    "plt.title(\"Spearman's correlation coefficients with $\\mathsf{\\delta^{18}O_p}$ anomaly on every months @Dome Fuji\")\n",
    "plt.show()"
   ]
  },
  {
   "cell_type": "markdown",
   "metadata": {},
   "source": [
    "Kanon Kino (kanon[at]aori.u-tokyo.ac.jp)"
   ]
  }
 ],
 "metadata": {
  "kernelspec": {
   "display_name": "Python 3",
   "language": "python",
   "name": "python3"
  },
  "language_info": {
   "codemirror_mode": {
    "name": "ipython",
    "version": 3
   },
   "file_extension": ".py",
   "mimetype": "text/x-python",
   "name": "python",
   "nbconvert_exporter": "python",
   "pygments_lexer": "ipython3",
   "version": "3.7.9"
  }
 },
 "nbformat": 4,
 "nbformat_minor": 4
}
