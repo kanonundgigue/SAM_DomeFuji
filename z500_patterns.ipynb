{
 "cells": [
  {
   "cell_type": "markdown",
   "metadata": {},
   "source": [
    "# z500_patterns"
   ]
  },
  {
   "cell_type": "code",
   "execution_count": 1,
   "metadata": {
    "execution": {
     "iopub.execute_input": "2021-08-23T06:42:59.244966Z",
     "iopub.status.busy": "2021-08-23T06:42:59.244617Z",
     "iopub.status.idle": "2021-08-23T06:43:00.198711Z",
     "shell.execute_reply": "2021-08-23T06:43:00.197546Z",
     "shell.execute_reply.started": "2021-08-23T06:42:59.244870Z"
    },
    "tags": []
   },
   "outputs": [],
   "source": [
    "import os\n",
    "import warnings\n",
    "warnings.simplefilter(\"ignore\")\n",
    "import statsmodels.api as sm\n",
    "import numpy as np\n",
    "import pandas as pd\n",
    "#\n",
    "import matplotlib\n",
    "import matplotlib.path as mpath\n",
    "import matplotlib.pyplot as plt\n",
    "import matplotlib.cm as cm\n",
    "from matplotlib.colors import rgb2hex\n",
    "import matplotlib.colors as mc\n",
    "#\n",
    "import cartopy.crs as ccrs"
   ]
  },
  {
   "cell_type": "code",
   "execution_count": 2,
   "metadata": {
    "execution": {
     "iopub.execute_input": "2021-08-23T06:43:00.200138Z",
     "iopub.status.busy": "2021-08-23T06:43:00.199973Z",
     "iopub.status.idle": "2021-08-23T06:43:00.203958Z",
     "shell.execute_reply": "2021-08-23T06:43:00.203256Z",
     "shell.execute_reply.started": "2021-08-23T06:43:00.200118Z"
    },
    "tags": []
   },
   "outputs": [],
   "source": [
    "# 描画設定\n",
    "plt.rcParams['figure.dpi'] = 300\n",
    "plt.rcParams.update({'font.family': 'sans-serif', 'text.usetex': False,'pcolor.shading':'auto'})"
   ]
  },
  {
   "cell_type": "code",
   "execution_count": 3,
   "metadata": {
    "execution": {
     "iopub.execute_input": "2021-08-23T06:43:00.204812Z",
     "iopub.status.busy": "2021-08-23T06:43:00.204668Z",
     "iopub.status.idle": "2021-08-23T06:43:00.272820Z",
     "shell.execute_reply": "2021-08-23T06:43:00.271835Z",
     "shell.execute_reply.started": "2021-08-23T06:43:00.204795Z"
    },
    "tags": []
   },
   "outputs": [],
   "source": [
    "class Site:\n",
    "    def DomeF(self):\n",
    "        sx=14 ; sy=60 # 77°18′59″S 39°42′04″E\n",
    "        df_lat = -77.3 ; df_lon=39.66\n",
    "        \n",
    "        return df_lon, df_lat, sx, sy"
   ]
  },
  {
   "cell_type": "code",
   "execution_count": 4,
   "metadata": {
    "execution": {
     "iopub.execute_input": "2021-08-23T06:43:00.273697Z",
     "iopub.status.busy": "2021-08-23T06:43:00.273550Z",
     "iopub.status.idle": "2021-08-23T06:43:00.323258Z",
     "shell.execute_reply": "2021-08-23T06:43:00.322493Z",
     "shell.execute_reply.started": "2021-08-23T06:43:00.273681Z"
    },
    "tags": []
   },
   "outputs": [],
   "source": [
    "class draw_map:\n",
    "    def label_h(self,fig,ax,barplot,cs,levels,label,fontsize):\n",
    "        cbaCorrax = fig.add_axes(barplot)\n",
    "        cbar      = plt.colorbar(cs, cax=cbaCorrax,orientation='horizontal',ticks=levels) \n",
    "        cbar.ax.tick_params(labelsize=fontsize) \n",
    "        cbar.set_label(label, size=fontsize)"
   ]
  },
  {
   "cell_type": "code",
   "execution_count": 5,
   "metadata": {
    "execution": {
     "iopub.execute_input": "2021-08-23T06:43:00.324221Z",
     "iopub.status.busy": "2021-08-23T06:43:00.324050Z",
     "iopub.status.idle": "2021-08-23T06:43:00.379522Z",
     "shell.execute_reply": "2021-08-23T06:43:00.378631Z",
     "shell.execute_reply.started": "2021-08-23T06:43:00.324201Z"
    },
    "tags": []
   },
   "outputs": [],
   "source": [
    "class draw_Ant:\n",
    "    def raw(self,ax,area,title,x,y,var0,norm,cmap,levels,fontsize=24,alpha=1):\n",
    "        ax.set_boundary(draw_Ant().circle(), transform=ax.transAxes)\n",
    "        ax.set_title(title, fontsize=fontsize) \n",
    "        \n",
    "        cm = plt.get_cmap(cmap)\n",
    "        cs = ax.contourf(x, y, var0, \n",
    "                             norm=norm, cmap=cmap, levels=levels, alpha=alpha,\n",
    "                             transform=ccrs.PlateCarree(), extend = \"both\")\n",
    "        df_lon, df_lat, sx, sy = Site().DomeF()\n",
    "        ax.scatter(df_lon, df_lat, c=\"black\", s=100, \n",
    "                       marker='^', edgecolors='white', linewidth=1, zorder=3,transform=ccrs.PlateCarree())\n",
    "        ax.set_global()\n",
    "        ax.coastlines()\n",
    "        ax.set_extent(area, crs=ccrs.PlateCarree())\n",
    " \n",
    "        return cs\n",
    "    \n",
    "    def circle(self):\n",
    "        theta          = np.linspace(0, 2*np.pi, 100)\n",
    "        center, radius = [0.5, 0.5], 0.5\n",
    "        verts          = np.vstack([np.sin(theta), np.cos(theta)]).T\n",
    "        circle         = mpath.Path(verts * radius + center)\n",
    "        \n",
    "        return circle "
   ]
  },
  {
   "cell_type": "code",
   "execution_count": 6,
   "metadata": {
    "execution": {
     "iopub.execute_input": "2021-08-23T06:43:00.380317Z",
     "iopub.status.busy": "2021-08-23T06:43:00.380179Z",
     "iopub.status.idle": "2021-08-23T06:43:00.408007Z",
     "shell.execute_reply": "2021-08-23T06:43:00.407307Z",
     "shell.execute_reply.started": "2021-08-23T06:43:00.380301Z"
    },
    "tags": []
   },
   "outputs": [],
   "source": [
    "def Color_Set(levels, cmapname):\n",
    "    cmap       = plt.get_cmap(cmapname, len(levels)+1)\n",
    "    colors     = cmap(range(cmap.N))\n",
    "    cmap, norm = mc.from_levels_and_colors(levels,colors,extend=\"both\")\n",
    "    \n",
    "    return cmap, norm    "
   ]
  },
  {
   "cell_type": "code",
   "execution_count": 7,
   "metadata": {
    "execution": {
     "iopub.execute_input": "2021-08-23T06:43:00.409520Z",
     "iopub.status.busy": "2021-08-23T06:43:00.409389Z",
     "iopub.status.idle": "2021-08-23T06:43:00.425804Z",
     "shell.execute_reply": "2021-08-23T06:43:00.424766Z",
     "shell.execute_reply.started": "2021-08-23T06:43:00.409504Z"
    },
    "tags": []
   },
   "outputs": [],
   "source": [
    "def get_color_code(cname,num):\n",
    "    cmap = cm.get_cmap(cname,num)\n",
    "\n",
    "    code_list =[]\n",
    "    for i in range(cmap.N):\n",
    "        rgb = cmap(i)[:3]\n",
    "        code_list.append(rgb2hex(rgb))\n",
    "\n",
    "    return code_list"
   ]
  },
  {
   "cell_type": "code",
   "execution_count": 8,
   "metadata": {
    "execution": {
     "iopub.execute_input": "2021-08-23T06:43:00.426690Z",
     "iopub.status.busy": "2021-08-23T06:43:00.426560Z",
     "iopub.status.idle": "2021-08-23T06:43:00.467063Z",
     "shell.execute_reply": "2021-08-23T06:43:00.466308Z",
     "shell.execute_reply.started": "2021-08-23T06:43:00.426674Z"
    },
    "tags": []
   },
   "outputs": [],
   "source": [
    "class Site:\n",
    "    def DomeF(self):\n",
    "        sx=14 ; sy=60 # 77°18′59″S 39°42′04″E\n",
    "        df_lat=-77.3\n",
    "        df_lon=39.66\n",
    "        return df_lon,df_lat,sx,sy"
   ]
  },
  {
   "cell_type": "code",
   "execution_count": 9,
   "metadata": {
    "execution": {
     "iopub.execute_input": "2021-08-23T06:43:00.467811Z",
     "iopub.status.busy": "2021-08-23T06:43:00.467683Z",
     "iopub.status.idle": "2021-08-23T06:43:00.513195Z",
     "shell.execute_reply": "2021-08-23T06:43:00.512334Z",
     "shell.execute_reply.started": "2021-08-23T06:43:00.467796Z"
    },
    "tags": []
   },
   "outputs": [],
   "source": [
    "df_lon,df_lat,df_x,df_y = Site().DomeF()"
   ]
  },
  {
   "cell_type": "code",
   "execution_count": 10,
   "metadata": {
    "execution": {
     "iopub.execute_input": "2021-08-23T06:43:00.514098Z",
     "iopub.status.busy": "2021-08-23T06:43:00.513930Z",
     "iopub.status.idle": "2021-08-23T06:43:02.992854Z",
     "shell.execute_reply": "2021-08-23T06:43:02.991445Z",
     "shell.execute_reply.started": "2021-08-23T06:43:00.514078Z"
    },
    "tags": []
   },
   "outputs": [],
   "source": [
    "loadfile = \"z500_anom.npz\"\n",
    "dataset  = np.load(loadfile)\n",
    "z500     = dataset[\"z500\"]\n",
    "lon2     = dataset[\"lon2\"]\n",
    "lat2     = dataset[\"lat2\"]\n",
    "y        = dataset[\"y\"]\n",
    "m        = dataset[\"m\"]\n",
    "d        = dataset[\"d\"]"
   ]
  },
  {
   "cell_type": "code",
   "execution_count": 11,
   "metadata": {
    "execution": {
     "iopub.execute_input": "2021-08-23T06:43:02.994699Z",
     "iopub.status.busy": "2021-08-23T06:43:02.994369Z",
     "iopub.status.idle": "2021-08-23T06:43:03.013753Z",
     "shell.execute_reply": "2021-08-23T06:43:03.012613Z",
     "shell.execute_reply.started": "2021-08-23T06:43:02.994664Z"
    },
    "tags": []
   },
   "outputs": [],
   "source": [
    "loadfile   = \"prcp_d18O_index.npz\"\n",
    "if os.path.exists(loadfile) == False:\n",
    "    dataset = np.load(\"cat/1dy/prcp_d18O_anom.npz\")\n",
    "    prcp_d18O = dataset[\"prcp_d18O\"]\n",
    "    prcp_d18O_df = prcp_d18O[df_x-1,df_y-1,:]\n",
    "    d18O_index = (prcp_d18O_df-np.nanmean(prcp_d18O_df))/np.nanstd(prcp_d18O_df)\n",
    "    np.savez(loadfile, index=d18O_index, y=y, m=m, d=d)\n",
    "else:    \n",
    "    dataset    = np.load(loadfile)\n",
    "    d18O_index = dataset[\"index\"]"
   ]
  },
  {
   "cell_type": "code",
   "execution_count": 12,
   "metadata": {
    "execution": {
     "iopub.execute_input": "2021-08-23T06:43:03.015105Z",
     "iopub.status.busy": "2021-08-23T06:43:03.014868Z",
     "iopub.status.idle": "2021-08-23T06:43:03.096077Z",
     "shell.execute_reply": "2021-08-23T06:43:03.095090Z",
     "shell.execute_reply.started": "2021-08-23T06:43:03.015077Z"
    },
    "tags": []
   },
   "outputs": [],
   "source": [
    "loadfile  = \"sam_pattern.npz\"\n",
    "if os.path.exists(loadfile) == False:\n",
    "    from netCDF4 import Dataset as NetCDFFile\n",
    "    from cdo import *\n",
    "    cdo=Cdo()\n",
    "    eof = cdo.seltimestep(\"1/3\", input=\"z500eofmonorg.nc\", options='-f nc', returnCdf=True).variables[\"zg\"]  [0,:,:].T\n",
    "    eof_nlon, eof_nlat = np.shape(eof)\n",
    "    nlon, nlat=np.shape(lon2)    \n",
    "    sam_pattern=np.zeros((nlon,nlat))\n",
    "    sam_pattern[:-1,nlat-eof_nlat:] = eof\n",
    "    sam_pattern[-1,nlat-eof_nlat:] = eof[0,:]\n",
    "    sam_pattern[:,:nlat-eof_nlat] = np.nan\n",
    "    pc = NetCDFFile(\"z500eofmonorg_pc_%5.5i_detrend.nc\" % (0)).variables[\"zg\"][:,0,0]\n",
    "    sam_pattern = sam_pattern*pc.std()\n",
    "    np.savez(loadfile,z500=sam_pattern, lon2=lon2, lat2=lat2,\n",
    "          y=y,m=m,d=d)\n",
    "else:    \n",
    "    dataset = np.load(loadfile)\n",
    "    sam_pattern = dataset[\"z500\"] "
   ]
  },
  {
   "cell_type": "code",
   "execution_count": 13,
   "metadata": {
    "execution": {
     "iopub.execute_input": "2021-08-23T06:43:03.097499Z",
     "iopub.status.busy": "2021-08-23T06:43:03.097224Z",
     "iopub.status.idle": "2021-08-23T06:43:03.112045Z",
     "shell.execute_reply": "2021-08-23T06:43:03.111162Z",
     "shell.execute_reply.started": "2021-08-23T06:43:03.097467Z"
    },
    "tags": []
   },
   "outputs": [],
   "source": [
    "thres=1"
   ]
  },
  {
   "cell_type": "code",
   "execution_count": 14,
   "metadata": {
    "execution": {
     "iopub.execute_input": "2021-08-23T06:43:03.113409Z",
     "iopub.status.busy": "2021-08-23T06:43:03.113155Z",
     "iopub.status.idle": "2021-08-23T06:43:03.986894Z",
     "shell.execute_reply": "2021-08-23T06:43:03.985648Z",
     "shell.execute_reply.started": "2021-08-23T06:43:03.113379Z"
    },
    "tags": []
   },
   "outputs": [],
   "source": [
    "z500_p    = np.nanmean(z500[:,:, d18O_index>=   thres]                        ,2)\n",
    "z500_n    = np.nanmean(z500[:,:, d18O_index<=-1*thres]                        ,2)\n",
    "z500JJA_p = np.nanmean(z500[:,:,(d18O_index>=   thres)&((m==6)+(m==7)+(m==8))],2)\n",
    "z500JJA_n = np.nanmean(z500[:,:,(d18O_index<=-1*thres)&((m==6)+(m==7)+(m==8))],2)"
   ]
  },
  {
   "cell_type": "code",
   "execution_count": 15,
   "metadata": {
    "execution": {
     "iopub.execute_input": "2021-08-23T06:43:03.988471Z",
     "iopub.status.busy": "2021-08-23T06:43:03.988243Z",
     "iopub.status.idle": "2021-08-23T06:43:04.476803Z",
     "shell.execute_reply": "2021-08-23T06:43:04.476042Z",
     "shell.execute_reply.started": "2021-08-23T06:43:03.988445Z"
    },
    "tags": []
   },
   "outputs": [],
   "source": [
    "z500M2O_p  = np.nanmean(z500[:,:,(d18O_index>=   thres)&((m>=3)&(m<=10))               ],2)\n",
    "z500M2O_n  = np.nanmean(z500[:,:,(d18O_index<=-1*thres)&((m>=3)&(m<=10))               ],2)\n",
    "z500NDJF_p = np.nanmean(z500[:,:,(d18O_index>=   thres)&((m==11)+(m==12)+(m==1)+(m==2))],2)\n",
    "z500NDJF_n = np.nanmean(z500[:,:,(d18O_index<=-1*thres)&((m==11)+(m==12)+(m==1)+(m==2))],2)"
   ]
  },
  {
   "cell_type": "code",
   "execution_count": 16,
   "metadata": {
    "execution": {
     "iopub.execute_input": "2021-08-23T06:43:04.477821Z",
     "iopub.status.busy": "2021-08-23T06:43:04.477646Z",
     "iopub.status.idle": "2021-08-23T06:43:04.481004Z",
     "shell.execute_reply": "2021-08-23T06:43:04.480443Z",
     "shell.execute_reply.started": "2021-08-23T06:43:04.477801Z"
    },
    "tags": []
   },
   "outputs": [],
   "source": [
    "label_sam_p = \"$\\mathsf{SAM^+}$\"\n",
    "label_sam_m = \"$\\mathsf{SAM^-}$\"\n",
    "label_n     = \"$\\mathsf{\\delta^-}$\"\n",
    "label_p     = \"$\\mathsf{\\delta^+}$\""
   ]
  },
  {
   "cell_type": "code",
   "execution_count": 17,
   "metadata": {
    "execution": {
     "iopub.execute_input": "2021-08-23T06:43:04.481880Z",
     "iopub.status.busy": "2021-08-23T06:43:04.481744Z",
     "iopub.status.idle": "2021-08-23T06:43:04.542551Z",
     "shell.execute_reply": "2021-08-23T06:43:04.541851Z",
     "shell.execute_reply.started": "2021-08-23T06:43:04.481863Z"
    },
    "tags": []
   },
   "outputs": [],
   "source": [
    "levels = [-10,-8,-6,-4,-2,-1,1,2,4,6,8,10]\n",
    "cmapname = \"coolwarm\"\n",
    "cmap, norm = Color_Set(levels, cmapname)\n",
    "def draw_field5(var1,title1, var2, title2, var3, title3, var4, title4, var5, title5, \n",
    "                title=\"\",label1=\"\",\n",
    "                levels1=levels, cmap1=cmap, norm1=norm, \n",
    "               area=[-180, 180, -90, -60]):\n",
    "    # colorbar\n",
    "    barplot=[0.05, 0.05, 0.9, 0.03]\n",
    "    \n",
    "    fig = plt.figure(figsize=(15,12))\n",
    "    \n",
    "    ax = plt.subplot2grid((2,3),(0,0),projection=ccrs.SouthPolarStereo())\n",
    "    cs = draw_Ant().raw(ax,area,title,lon2,lat2,var1,norm1,cmap1,levels1,16)\n",
    "    ax.set_title(\"(a)\", loc=\"left\", fontsize=20, weight=\"demibold\")\n",
    "    ax.set_title(title1 ,loc=\"center\", fontsize=20)\n",
    "    \n",
    "    ax = plt.subplot2grid((2,3),(0,1),projection=ccrs.SouthPolarStereo())\n",
    "    cs = draw_Ant().raw(ax,area,title,lon2,lat2,var2,norm1,cmap1,levels1,16)\n",
    "    ax.set_title(\"(b)\", loc=\"left\", fontsize=20, weight=\"demibold\")\n",
    "    ax.set_title(title2 ,loc=\"center\", fontsize=20)\n",
    "\n",
    "    ax = plt.subplot2grid((2,3),(0,2),projection=ccrs.SouthPolarStereo())\n",
    "    cs = draw_Ant().raw(ax,area,title,lon2,lat2,var3,norm1,cmap1,levels1,16)\n",
    "    ax.set_title(\"(c)\", loc=\"left\", fontsize=20, weight=\"demibold\")\n",
    "    ax.set_title(title3 ,loc=\"center\", fontsize=20)\n",
    "    \n",
    "    ax = plt.subplot2grid((2,3),(1,0),projection=ccrs.SouthPolarStereo())\n",
    "    cs = draw_Ant().raw(ax,area,title,lon2,lat2,var4,norm1,cmap1,levels1,16)\n",
    "    ax.set_title(\"(d)\", loc=\"left\", fontsize=20, weight=\"demibold\")\n",
    "    ax.set_title(title4 ,loc=\"center\", fontsize=20)\n",
    "\n",
    "    ax = plt.subplot2grid((2,3),(1,1),projection=ccrs.SouthPolarStereo())\n",
    "    cs = draw_Ant().raw(ax,area,title,lon2,lat2,var5,norm1,cmap1,levels1,16)\n",
    "    ax.set_title(\"(e)\", loc=\"left\", fontsize=20, weight=\"demibold\")\n",
    "    ax.set_title(title5 ,loc=\"center\", fontsize=20)   \n",
    "    \n",
    "    draw_map().label_h(fig,ax,barplot, cs,levels1,label1,16)    \n",
    "    \n",
    "    return fig, ax"
   ]
  },
  {
   "cell_type": "code",
   "execution_count": 18,
   "metadata": {
    "execution": {
     "iopub.execute_input": "2021-08-23T06:43:04.543624Z",
     "iopub.status.busy": "2021-08-23T06:43:04.543440Z",
     "iopub.status.idle": "2021-08-23T06:43:04.595555Z",
     "shell.execute_reply": "2021-08-23T06:43:04.594785Z",
     "shell.execute_reply.started": "2021-08-23T06:43:04.543602Z"
    },
    "tags": []
   },
   "outputs": [],
   "source": [
    "z500_levels          =  [-60,-40,-20,-10,10,20,40,60,80,100,120]\n",
    "z500_cmapname        = \"twilight_shifted\"\n",
    "z500_cmap, z500_norm = Color_Set(z500_levels, z500_cmapname)\n",
    "z500_label           = \"Geopotential height (500 hPa) [m]\" \n",
    "\n",
    "color_code           = (get_color_code(z500_cmapname,len(z500_levels)+1)[:]) # Modification\n",
    "mid                  = (len(color_code)-1)/2 -1\n",
    "color_code[int(mid)] = \"#ffffff\"\n",
    "z500_cmap, z500_norm = mc.from_levels_and_colors(z500_levels,color_code,extend=\"both\")          "
   ]
  },
  {
   "cell_type": "code",
   "execution_count": null,
   "metadata": {
    "execution": {
     "iopub.execute_input": "2021-08-23T06:43:04.596769Z",
     "iopub.status.busy": "2021-08-23T06:43:04.596563Z"
    },
    "tags": []
   },
   "outputs": [],
   "source": [
    "fig,ax = draw_field5(z500_p-z500_n         , label_p+\" - \"+label_n+\" (Annual)\"  ,\n",
    "                     z500M2O_p-z500M2O_n   , label_p+\" - \"+label_n+\" (MAMJJASO)\",  \n",
    "                     z500NDJF_p-z500NDJF_n , label_p+\" - \"+label_n+\" (NDJF)\"    ,\n",
    "                     z500JJA_p-z500JJA_n   , label_p+\" - \"+label_n+\" (JJA)\"     ,\n",
    "                     sam_pattern*-1*2      , label_sam_m+\" - \"+label_sam_p      ,\n",
    "                     label1=z500_label, levels1=z500_levels, cmap1=z500_cmap, norm1=z500_norm,\n",
    "                     area=[-180, 180, -90, -20])\n",
    "\n",
    "plt.subplots_adjust(top=0.9,bottom=0.1,left=0.02,right=0.98,hspace=0.1,wspace=0.05)\n",
    "fig.show()\n",
    "fig.savefig(\"z500_patterns.png\")      \n",
    "fig.savefig(\"pic/Figure4.jpg\")"
   ]
  },
  {
   "cell_type": "markdown",
   "metadata": {},
   "source": [
    "Kanon Kino (kanon[at]aori.u-tokyo.ac.jp)"
   ]
  }
 ],
 "metadata": {
  "kernelspec": {
   "display_name": "Python 3",
   "language": "python",
   "name": "python3"
  },
  "language_info": {
   "codemirror_mode": {
    "name": "ipython",
    "version": 3
   },
   "file_extension": ".py",
   "mimetype": "text/x-python",
   "name": "python",
   "nbconvert_exporter": "python",
   "pygments_lexer": "ipython3",
   "version": "3.7.10"
  }
 },
 "nbformat": 4,
 "nbformat_minor": 4
}
